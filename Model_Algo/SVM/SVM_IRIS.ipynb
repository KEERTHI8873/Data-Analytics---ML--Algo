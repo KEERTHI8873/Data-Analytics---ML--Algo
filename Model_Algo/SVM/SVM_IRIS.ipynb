{
  "nbformat": 4,
  "nbformat_minor": 0,
  "metadata": {
    "colab": {
      "provenance": []
    },
    "kernelspec": {
      "name": "python3",
      "display_name": "Python 3"
    },
    "language_info": {
      "name": "python"
    }
  },
  "cells": [
    {
      "cell_type": "code",
      "execution_count": 3,
      "metadata": {
        "colab": {
          "base_uri": "https://localhost:8080/"
        },
        "id": "SqeGk9_Ohat_",
        "outputId": "1f0a565a-ab76-4840-fd46-ad77a0095792"
      },
      "outputs": [
        {
          "output_type": "stream",
          "name": "stdout",
          "text": [
            "--- Support Vector Machine (SVM) Classifier ---\n",
            "Accuracy: 0.9778\n",
            "Classification Report:\n",
            "               precision    recall  f1-score   support\n",
            "\n",
            "      setosa       1.00      1.00      1.00       128\n",
            "  versicolor       0.97      0.97      0.97       116\n",
            "   virginica       0.97      0.97      0.97       116\n",
            "\n",
            "    accuracy                           0.98       360\n",
            "   macro avg       0.98      0.98      0.98       360\n",
            "weighted avg       0.98      0.98      0.98       360\n",
            "\n"
          ]
        }
      ],
      "source": [
        "import pandas as pd\n",
        "from sklearn.model_selection import train_test_split\n",
        "from sklearn.svm import SVC\n",
        "from sklearn.metrics import accuracy_score, classification_report\n",
        "\n",
        "def train_svm(file_path):\n",
        "    \"\"\"\n",
        "    Trains a Support Vector Machine (SVM) Classifier on the Iris dataset.\n",
        "\n",
        "    Args:\n",
        "        file_path (str): Path to the iris_extended.csv file.\n",
        "    \"\"\"\n",
        "    df = pd.read_csv(\"/content/iris_extended.csv\")\n",
        "\n",
        "    X = df[['sepal_length', 'sepal_width', 'petal_length', 'petal_width']]\n",
        "    y = df['species']\n",
        "\n",
        "    X_train, X_test, y_train, y_test = train_test_split(X, y, test_size=0.3, random_state=42)\n",
        "\n",
        "    svm_classifier = SVC(kernel='linear', random_state=42)\n",
        "    svm_classifier.fit(X_train, y_train)\n",
        "\n",
        "    y_pred = svm_classifier.predict(X_test)\n",
        "\n",
        "    accuracy = accuracy_score(y_test, y_pred)\n",
        "    report = classification_report(y_test, y_pred)\n",
        "\n",
        "    print(\"--- Support Vector Machine (SVM) Classifier ---\")\n",
        "    print(f\"Accuracy: {accuracy:.4f}\")\n",
        "    print(\"Classification Report:\\n\", report)\n",
        "\n",
        "if __name__ == \"__main__\":\n",
        "    train_svm('MultipleFiles/iris_extended.csv')\n",
        "\n"
      ]
    }
  ]
}