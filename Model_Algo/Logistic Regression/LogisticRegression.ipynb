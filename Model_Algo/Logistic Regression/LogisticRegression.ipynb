{
  "nbformat": 4,
  "nbformat_minor": 0,
  "metadata": {
    "colab": {
      "provenance": []
    },
    "kernelspec": {
      "name": "python3",
      "display_name": "Python 3"
    },
    "language_info": {
      "name": "python"
    }
  },
  "cells": [
    {
      "cell_type": "code",
      "execution_count": 2,
      "metadata": {
        "colab": {
          "base_uri": "https://localhost:8080/"
        },
        "id": "k99OHx6dix82",
        "outputId": "10b3a825-3fec-4c00-cbd5-1b3f49b11703"
      },
      "outputs": [
        {
          "output_type": "stream",
          "name": "stdout",
          "text": [
            "--- Logistic Regression Model ---\n",
            "Accuracy: 0.9472\n",
            "Classification Report:\n",
            "               precision    recall  f1-score   support\n",
            "\n",
            "      setosa       0.99      1.00      1.00       128\n",
            "  versicolor       0.97      0.86      0.91       116\n",
            "   virginica       0.88      0.97      0.93       116\n",
            "\n",
            "    accuracy                           0.95       360\n",
            "   macro avg       0.95      0.95      0.95       360\n",
            "weighted avg       0.95      0.95      0.95       360\n",
            "\n"
          ]
        },
        {
          "output_type": "stream",
          "name": "stderr",
          "text": [
            "/usr/local/lib/python3.11/dist-packages/sklearn/linear_model/_logistic.py:1256: FutureWarning: 'multi_class' was deprecated in version 1.5 and will be removed in 1.7. Use OneVsRestClassifier(LogisticRegression(..)) instead. Leave it to its default value to avoid this warning.\n",
            "  warnings.warn(\n"
          ]
        }
      ],
      "source": [
        "import pandas as pd\n",
        "from sklearn.model_selection import train_test_split\n",
        "from sklearn.linear_model import LogisticRegression\n",
        "from sklearn.metrics import accuracy_score, classification_report\n",
        "\n",
        "def train_logistic_regression(file_path):\n",
        "    \"\"\"\n",
        "    Trains a Logistic Regression model on the Iris dataset.\n",
        "\n",
        "    Args:\n",
        "        file_path (str): Path to the iris_extended.csv file.\n",
        "    \"\"\"\n",
        "    df = pd.read_csv(\"/content/iris_extended.csv\")\n",
        "\n",
        "    X = df[['sepal_length', 'sepal_width', 'petal_length', 'petal_width']]\n",
        "    y = df['species']\n",
        "\n",
        "    X_train, X_test, y_train, y_test = train_test_split(X, y, test_size=0.3, random_state=42)\n",
        "\n",
        "    logistic_model = LogisticRegression(solver='liblinear', multi_class='ovr', random_state=42)\n",
        "    logistic_model.fit(X_train, y_train)\n",
        "\n",
        "    y_pred = logistic_model.predict(X_test)\n",
        "\n",
        "    accuracy = accuracy_score(y_test, y_pred)\n",
        "    report = classification_report(y_test, y_pred)\n",
        "\n",
        "    print(\"--- Logistic Regression Model ---\")\n",
        "    print(f\"Accuracy: {accuracy:.4f}\")\n",
        "    print(\"Classification Report:\\n\", report)\n",
        "\n",
        "if __name__ == \"__main__\":\n",
        "    train_logistic_regression('MultipleFiles/iris_extended.csv')\n",
        "\n"
      ]
    }
  ]
}