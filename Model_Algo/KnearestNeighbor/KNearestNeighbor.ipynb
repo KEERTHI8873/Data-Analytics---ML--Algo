{
  "nbformat": 4,
  "nbformat_minor": 0,
  "metadata": {
    "colab": {
      "provenance": []
    },
    "kernelspec": {
      "name": "python3",
      "display_name": "Python 3"
    },
    "language_info": {
      "name": "python"
    }
  },
  "cells": [
    {
      "cell_type": "code",
      "execution_count": 2,
      "metadata": {
        "colab": {
          "base_uri": "https://localhost:8080/"
        },
        "id": "UxeWgKamiMrM",
        "outputId": "adabfb30-e3e0-4b88-acea-042be243bbe9"
      },
      "outputs": [
        {
          "output_type": "stream",
          "name": "stdout",
          "text": [
            "--- K-Nearest Neighbors (KNN) Classifier ---\n",
            "Accuracy: 0.9750\n",
            "Classification Report:\n",
            "               precision    recall  f1-score   support\n",
            "\n",
            "      setosa       1.00      1.00      1.00       128\n",
            "  versicolor       0.96      0.97      0.96       116\n",
            "   virginica       0.97      0.96      0.96       116\n",
            "\n",
            "    accuracy                           0.97       360\n",
            "   macro avg       0.97      0.97      0.97       360\n",
            "weighted avg       0.98      0.97      0.97       360\n",
            "\n"
          ]
        }
      ],
      "source": [
        "import pandas as pd\n",
        "from sklearn.model_selection import train_test_split\n",
        "from sklearn.neighbors import KNeighborsClassifier\n",
        "from sklearn.metrics import accuracy_score, classification_report\n",
        "\n",
        "def train_knn(file_path):\n",
        "    \"\"\"\n",
        "    Trains a K-Nearest Neighbors (KNN) Classifier on the Iris dataset.\n",
        "\n",
        "    Args:\n",
        "        file_path (str): Path to the iris_extended.csv file.\n",
        "    \"\"\"\n",
        "    df = pd.read_csv(\"/content/iris_extended.csv\")\n",
        "\n",
        "    X = df[['sepal_length', 'sepal_width', 'petal_length', 'petal_width']]\n",
        "    y = df['species']\n",
        "\n",
        "    X_train, X_test, y_train, y_test = train_test_split(X, y, test_size=0.3, random_state=42)\n",
        "\n",
        "    knn_classifier = KNeighborsClassifier(n_neighbors=5)\n",
        "    knn_classifier.fit(X_train, y_train)\n",
        "\n",
        "    y_pred = knn_classifier.predict(X_test)\n",
        "\n",
        "    accuracy = accuracy_score(y_test, y_pred)\n",
        "    report = classification_report(y_test, y_pred)\n",
        "\n",
        "    print(\"--- K-Nearest Neighbors (KNN) Classifier ---\")\n",
        "    print(f\"Accuracy: {accuracy:.4f}\")\n",
        "    print(\"Classification Report:\\n\", report)\n",
        "\n",
        "if __name__ == \"__main__\":\n",
        "    train_knn('MultipleFiles/iris_extended.csv')\n",
        "\n"
      ]
    }
  ]
}